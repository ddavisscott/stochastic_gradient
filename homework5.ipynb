{
 "cells": [
  {
   "cell_type": "code",
   "execution_count": 273,
   "metadata": {},
   "outputs": [],
   "source": [
    "import numpy as np\n",
    "import matplotlib.pyplot as plt\n",
    "import pandas as pd\n",
    "import time\n",
    "from sklearn.preprocessing import MinMaxScaler\n",
    "from sklearn.model_selection import train_test_split\n",
    "from sklearn.datasets import make_classification\n",
    "from sklearn.metrics import mean_squared_error\n",
    "from sklearn.tree import DecisionTreeClassifier\n",
    "from sklearn.ensemble import RandomForestClassifier\n",
    "from sklearn.neural_network import MLPClassifier"
   ]
  },
  {
   "cell_type": "code",
   "execution_count": 172,
   "metadata": {},
   "outputs": [],
   "source": [
    "# Sigmoid Function\n",
    "def sig(w,x):\n",
    "    d=np.dot(x,w)\n",
    "    t_pred = 1/(1+np.exp(-d))\n",
    "    return t_pred\n",
    "\n",
    "# Log Likelihood\n",
    "def loglikelihood(w,x,t):\n",
    "    l=0\n",
    "    for i in range(len(t)):\n",
    "        l += t[i]*np.log(sig(w,x[i,:]))+(1-t[i])*np.log(1-sig(w,x[i,:]))\n",
    "    return l\n",
    "\n",
    "# Derivative of the Loss Function\n",
    "def dLdW(w,x,t):\n",
    "    t_pred = sig(w,x)\n",
    "    return (t_pred-t)*x"
   ]
  },
  {
   "cell_type": "code",
   "execution_count": 184,
   "metadata": {},
   "outputs": [],
   "source": [
    "# Read datasets and make normalized version\n",
    "dataset = pd.read_csv('diabetes.csv')\n",
    "scaler = MinMaxScaler()\n",
    "scaler.fit(dataset)\n",
    "scaler.data_max_\n",
    "column_names = ['Pregnancies', 'Glucose', 'BloodPressure', 'SkinThickness', 'Insulin', 'BMI', 'DiabetesPedigreeFunction', 'Age', 'Outcome']\n",
    "normalized_dataset = pd.DataFrame(scaler.transform(dataset), columns=column_names)\n",
    "\n",
    "# Split Unnormalized Data\n",
    "X = dataset.drop('Outcome', axis=1)\n",
    "t = dataset['Outcome']\n",
    "train_X, test_X, train_t, test_t = train_test_split(X, t, test_size=0.2, stratify=t)\n",
    "del dataset, X, t\n",
    "column_names = ['Bias', 'Pregnancies', 'Glucose', 'BloodPressure', 'SkinThickness', 'Insulin', 'BMI', 'DiabetesPedigreeFunction', 'Age']\n",
    "train_X = pd.DataFrame(np.concatenate((np.ones(train_X.shape[0]).reshape(-1,1), train_X.values), axis=1),columns = column_names)\n",
    "train_t = pd.DataFrame(train_t.values,columns = ['Outcome'])\n",
    "test_X = pd.DataFrame(np.concatenate((np.ones(test_X.shape[0]).reshape(-1,1), test_X.values), axis=1),columns = column_names)\n",
    "test_t = pd.DataFrame(test_t.values,columns = ['Outcome'])\n",
    "\n",
    "train_X = train_X.values\n",
    "train_t = train_t.values\n",
    "test_X = test_X.values\n",
    "test_t = test_t.values\n",
    "\n",
    "l = train_X.shape[0]\n",
    "X = np.concatenate((train_X,test_X), axis=0)\n",
    "scaler.fit(X)\n",
    "scaler.data_max_\n",
    "X = scaler.transform(X)\n",
    "norm_train_X = X[0:l,:]\n",
    "norm_test_X = X[l:,:]\n",
    "norm_train_t = train_t\n",
    "norm_test_t = test_t\n",
    "\n",
    "# # Split Normalized Data\n",
    "# X = normalized_dataset.drop('Outcome', axis=1)\n",
    "# t = normalized_dataset['Outcome']\n",
    "# norm_train_X, norm_test_X, norm_train_t, norm_test_t = train_test_split(X, t, test_size=0.2, stratify=t)\n",
    "# del normalized_dataset, X, t\n",
    "# norm_train_X = pd.DataFrame(norm_train_X.values,columns = column_names)\n",
    "# norm_train_t = pd.DataFrame(norm_train_t.values,columns = ['Outcome'])\n",
    "# norm_test_X = pd.DataFrame(norm_test_X.values,columns = column_names)\n",
    "# norm_test_t = pd.DataFrame(norm_test_t.values,columns = ['Outcome'])"
   ]
  },
  {
   "cell_type": "markdown",
   "metadata": {},
   "source": [
    "# Problem 2\n",
    "Implement stochastic gradient descent for logistic regression (see equation 4.91, but update for each example in turn rather than summing the gradients over all examples) and do the following:"
   ]
  },
  {
   "cell_type": "markdown",
   "metadata": {},
   "source": [
    "## 2.a.\n",
    "Apply your SGD algorithm to the un-normalized training set. Keep track of the log-likelihood of the training set, and run until the log-likelihood seems to be converging. Experiment a little bit with the step-size. What step sizes seem to lead to faster convergence? How long does the convergence take (measured in wall-clock time and epochs). What is your error rates and average log-likelihood on the training data and on the test data? (The average log-likelihood divided by the number of examples.) What features are given the highest positive weights? Which features are given the largest negative weights?"
   ]
  },
  {
   "cell_type": "code",
   "execution_count": 206,
   "metadata": {},
   "outputs": [
    {
     "name": "stdout",
     "output_type": "stream",
     "text": [
      "Epochs: 81\n",
      "Runtime: 1.8657011985778809\n",
      "Log Likelihood of Training Data: [-0.78932254]\n",
      "Log Likelihood of Test Set: [-0.21763364]\n",
      "Predicted Training Labels: [0 1 0 0 1 0 0 0 0 0 0 0 0 0 0 0 0 0 0 1 0 0 0 0 0 0 0 0 0 1 0 0 0 0 0 0 1\n",
      " 1 0 1 0 1 0 0 0 0 0 0 1 0 0 0 0 1 0 0 0 1 0 1 1 0 0 1 0 1 0 0 0 0 1 0 1 1\n",
      " 1 0 0 0 0 0 0 0 0 0 0 0 1 0 0 0 0 0 0 0 0 1 1 0 0 1 1 1 1 0 1 0 0 0 1 0 0\n",
      " 0 0 1 0 1 0 1 0 1 0 0 0 1 0 1 0 1 0 0 0 0 0 1 0 1 0 0 0 0 0 0 0 0 0 0 0 1\n",
      " 0 0 1 0 0 0 0 0 0 0 0 1 0 0 0 0 0 0 0 0 0 0 0 1 0 0 0 0 0 0 1 1 0 0 1 1 0\n",
      " 0 1 0 1 0 0 0 0 1 0 1 0 0 0 1 0 1 1 0 1 0 0 0 0 1 1 0 0 0 0 0 1 1 0 0 0 0\n",
      " 0 0 0 1 1 0 1 0 1 0 0 0 0 0 1 0 0 1 0 0 1 1 1 0 0 0 0 1 0 0 0 0 0 0 0 0 0\n",
      " 1 0 0 0 0 1 0 0 0 0 0 0 0 0 0 0 1 0 0 0 0 0 0 0 0 0 1 0 0 0 0 0 0 0 0 0 0\n",
      " 0 0 1 1 0 1 1 0 0 0 0 0 1 0 0 0 0 1 0 0 0 0 1 0 0 0 0 0 0 0 0 0 1 1 0 0 0\n",
      " 1 0 0 0 0 0 0 0 0 0 0 1 0 0 1 0 0 1 0 0 0 0 0 0 1 0 0 0 0 0 0 0 1 0 0 0 1\n",
      " 0 0 1 0 0 0 1 0 0 0 0 0 0 0 1 0 0 1 1 0 0 0 0 0 0 1 1 0 0 0 0 0 0 1 0 1 0\n",
      " 1 1 0 0 0 0 1 0 1 0 1 0 0 0 0 0 0 0 0 1 0 0 0 0 0 0 1 0 0 0 1 0 0 1 1 0 0\n",
      " 0 0 0 0 1 0 0 0 0 0 0 0 0 0 0 1 0 0 0 0 0 0 1 0 0 0 0 0 1 0 0 0 0 1 0 0 0\n",
      " 0 0 1 0 0 0 0 0 0 0 0 0 0 0 0 0 0 0 0 1 1 0 0 0 1 0 0 1 0 0 0 0 0 0 0 0 0\n",
      " 0 0 0 0 1 0 0 0 0 0 0 0 0 0 0 0 0 1 0 0 0 0 0 0 0 0 0 0 0 0 0 0 0 0 0 0 1\n",
      " 0 0 0 0 1 0 0 0 0 0 1 0 0 0 0 1 0 0 0 0 0 0 1 0 1 0 0 1 0 0 0 1 0 0 1 0 0\n",
      " 0 0 1 0 0 0 1 0 0 0 0 1 0 0 1 0 0 1 0 0 0 0]\n",
      "Predicted Test Labels: [1 0 1 0 0 0 0 0 0 0 0 0 0 0 0 0 0 0 0 1 0 0 1 0 1 0 0 0 0 0 1 0 0 0 1 0 1\n",
      " 1 0 0 0 1 0 0 0 0 0 0 0 0 1 0 0 0 0 0 0 0 0 1 0 0 0 0 0 0 0 0 1 0 0 0 0 0\n",
      " 0 1 0 0 0 0 0 0 0 0 0 0 0 0 0 0 0 1 1 1 0 0 0 0 0 0 0 0 0 0 1 1 0 0 0 0 0\n",
      " 0 0 0 0 0 0 1 0 1 0 0 0 0 0 1 0 0 1 0 0 0 1 0 0 0 0 0 0 1 0 0 0 1 1 0 0 1\n",
      " 0 0 0 0 1 0]\n",
      "Error on Training Data: 0.31596091205211724\n",
      "Error on Test Data: 0.38311688311688313\n"
     ]
    },
    {
     "data": {
      "image/png": "[encoded data removed]",
      "text/plain": [
       "<Figure size 432x288 with 1 Axes>"
      ]
     },
     "metadata": {
      "needs_background": "light"
     },
     "output_type": "display_data"
    }
   ],
   "source": [
    "# Initialize weights and Likelihood values\n",
    "w = np.random.random(train_X.shape[1])\n",
    "likelihood = np.array([])\n",
    "ind = np.array([])\n",
    "\n",
    "# Stochastic Gradient Descent\n",
    "threshold = 1e-4\n",
    "nsteps = train_t.shape[0]\n",
    "alpha = 1e-4\n",
    "l_old = -np.inf\n",
    "l_new = -np.random.random(1)\n",
    "start = time.time()\n",
    "epochs = 0\n",
    "while (abs(l_old - l_new) > threshold) or (np.isnan(l_old) or np.isnan(l_new)):\n",
    "    for i in range(nsteps):\n",
    "        w = w - alpha * dLdW(w.reshape(-1), train_X[i,:], train_t[i])\n",
    "    epochs += 1\n",
    "    ind = np.append(ind,epochs)\n",
    "    l_old = l_new\n",
    "    l_new = loglikelihood(w.reshape(-1),train_X,train_t)/nsteps\n",
    "    likelihood = np.append(likelihood,l_new)\n",
    "end = time.time()\n",
    "runtime = end-start\n",
    "pred_train_t = (sig(w.reshape(-1),train_X) > 0.5).astype(int)\n",
    "pred_test_t = (sig(w.reshape(-1),test_X) > 0.5).astype(int)\n",
    "plt.plot(ind,likelihood,'-')\n",
    "print('Epochs:', epochs)\n",
    "print('Runtime:', runtime)\n",
    "print('Log Likelihood of Training Data:', loglikelihood(w.reshape(-1), train_X, train_t)/nsteps)\n",
    "print('Log Likelihood of Test Set:', loglikelihood(w.reshape(-1), test_X, test_t)/nsteps)\n",
    "print('Predicted Training Labels:', pred_train_t)\n",
    "print('Predicted Test Labels:', pred_test_t)\n",
    "print('Error on Training Data:', mean_squared_error(train_t, pred_train_t))\n",
    "print('Error on Test Data:', mean_squared_error(test_t, pred_test_t))\n",
    "w = pd.DataFrame(w.reshape(1,-1),columns = column_names)\n",
    "\n",
    "\n",
    "del likelihood, ind, threshold, nsteps, alpha, epochs, l_old, l_new, i, pred_train_t, pred_test_t"
   ]
  },
  {
   "cell_type": "code",
   "execution_count": 207,
   "metadata": {
    "scrolled": true
   },
   "outputs": [
    {
     "data": {
      "text/html": [
       "<div>\n",
       "<style scoped>\n",
       "    .dataframe tbody tr th:only-of-type {\n",
       "        vertical-align: middle;\n",
       "    }\n",
       "\n",
       "    .dataframe tbody tr th {\n",
       "        vertical-align: top;\n",
       "    }\n",
       "\n",
       "    .dataframe thead th {\n",
       "        text-align: right;\n",
       "    }\n",
       "</style>\n",
       "<table border=\"1\" class=\"dataframe\">\n",
       "  <thead>\n",
       "    <tr style=\"text-align: right;\">\n",
       "      <th></th>\n",
       "      <th>Bias</th>\n",
       "      <th>Pregnancies</th>\n",
       "      <th>Glucose</th>\n",
       "      <th>BloodPressure</th>\n",
       "      <th>SkinThickness</th>\n",
       "      <th>Insulin</th>\n",
       "      <th>BMI</th>\n",
       "      <th>DiabetesPedigreeFunction</th>\n",
       "      <th>Age</th>\n",
       "    </tr>\n",
       "  </thead>\n",
       "  <tbody>\n",
       "    <tr>\n",
       "      <th>0</th>\n",
       "      <td>-0.153285</td>\n",
       "      <td>0.247829</td>\n",
       "      <td>0.028142</td>\n",
       "      <td>-0.044244</td>\n",
       "      <td>0.013437</td>\n",
       "      <td>-0.013147</td>\n",
       "      <td>-0.008274</td>\n",
       "      <td>0.240614</td>\n",
       "      <td>-0.041585</td>\n",
       "    </tr>\n",
       "  </tbody>\n",
       "</table>\n",
       "</div>"
      ],
      "text/plain": [
       "       Bias  Pregnancies   Glucose  BloodPressure  SkinThickness   Insulin  \\\n",
       "0 -0.153285     0.247829  0.028142      -0.044244       0.013437 -0.013147   \n",
       "\n",
       "        BMI  DiabetesPedigreeFunction       Age  \n",
       "0 -0.008274                  0.240614 -0.041585  "
      ]
     },
     "execution_count": 207,
     "metadata": {},
     "output_type": "execute_result"
    }
   ],
   "source": [
    "# Print the weights\n",
    "w.head()"
   ]
  },
  {
   "cell_type": "markdown",
   "metadata": {},
   "source": [
    "## 2.b.\n",
    "Apply your SGD algorithm to the normalized training set. You can use a good step-size from the previous part. Report the log-likelihoods and error rates on the training and test sets. Are the learned weights similar? Are the learned hypotheses similar after taking into account the rescaling?"
   ]
  },
  {
   "cell_type": "code",
   "execution_count": 208,
   "metadata": {},
   "outputs": [
    {
     "name": "stdout",
     "output_type": "stream",
     "text": [
      "[-0.6564888] [-0.65638953]\n",
      "Runtime: 4.080625295639038\n",
      "Epochs: 169\n",
      "Log Likelihood of Training Data: [-0.65638953]\n",
      "Log Likelihood of Test Set: [-0.16594318]\n",
      "Predicted Training Labels: [0 0 0 1 0 0 0 0 0 0 0 0 0 0 0 0 0 0 0 0 0 0 0 1 1 0 0 0 0 0 0 0 1 0 0 0 0\n",
      " 0 0 0 0 0 0 0 0 0 0 0 0 1 0 1 0 0 0 0 0 0 0 0 0 0 0 0 0 0 0 0 0 0 0 0 0 0\n",
      " 0 0 0 0 0 0 0 0 0 0 0 0 0 0 0 0 0 0 0 0 0 0 0 0 0 0 0 0 0 0 0 0 0 0 0 0 0\n",
      " 0 0 0 0 0 0 0 0 0 0 0 0 0 0 0 0 0 0 0 0 0 0 0 0 0 0 0 0 0 0 0 0 0 0 0 0 0\n",
      " 0 0 0 0 0 0 0 0 0 0 0 0 0 0 0 0 0 0 0 0 0 0 0 0 0 0 0 0 0 0 0 0 0 0 0 0 0\n",
      " 0 0 0 0 0 0 0 0 0 0 0 0 0 0 0 0 0 0 0 0 0 0 0 0 0 0 0 0 0 0 0 0 0 0 0 0 0\n",
      " 0 0 0 0 0 0 1 0 0 0 0 0 0 0 0 0 0 0 0 0 0 0 0 0 0 0 0 0 0 0 0 0 0 0 0 0 0\n",
      " 0 0 0 0 0 0 0 0 0 0 0 0 0 0 0 0 0 0 0 0 0 0 0 0 0 0 0 0 0 0 1 0 0 0 0 0 0\n",
      " 1 0 0 0 0 0 0 0 0 0 0 0 0 0 0 0 0 0 0 0 0 0 0 0 0 0 0 0 0 0 0 0 0 0 0 0 0\n",
      " 0 0 0 0 0 0 0 0 0 1 0 0 0 0 0 0 0 0 0 0 0 0 0 0 0 0 0 0 0 0 0 0 0 0 0 0 0\n",
      " 0 0 0 0 0 0 0 0 0 0 0 0 0 0 0 0 0 0 0 0 0 0 0 0 0 1 0 0 0 0 0 0 0 0 0 1 0\n",
      " 0 0 0 0 0 0 0 0 0 0 0 0 0 0 0 0 0 0 0 0 0 0 0 0 0 0 0 0 0 0 0 0 0 0 0 0 0\n",
      " 0 0 0 0 0 0 0 0 0 0 0 0 0 0 0 0 0 0 0 0 0 0 0 0 0 0 0 0 0 0 0 0 0 0 0 0 0\n",
      " 0 0 0 0 0 0 0 0 0 0 1 0 0 0 0 0 0 0 0 0 0 0 0 0 0 0 0 0 0 0 0 0 0 0 0 0 0\n",
      " 0 0 0 0 0 0 0 0 0 0 0 0 0 0 0 0 0 0 0 0 0 0 0 0 0 0 0 0 0 0 0 0 0 0 0 0 0\n",
      " 0 0 0 0 0 0 0 0 0 0 0 0 0 0 0 0 0 0 0 0 0 0 0 0 0 0 0 0 0 0 0 0 0 0 0 0 0\n",
      " 0 0 0 0 0 0 0 0 0 0 1 0 0 0 0 0 0 0 0 0 0 1]\n",
      "Predicted Test Labels: [1 0 1 0 0 0 0 0 0 0 0 0 0 0 0 0 0 0 0 0 0 0 0 0 0 0 0 0 0 0 0 0 0 0 0 0 0\n",
      " 0 0 0 0 0 0 0 0 0 1 0 0 0 0 0 0 0 0 0 0 0 0 0 0 0 0 0 0 0 0 0 0 0 0 0 0 0\n",
      " 0 0 0 0 0 0 0 0 0 0 0 0 0 0 0 0 0 0 0 0 0 0 0 0 0 0 0 0 0 0 0 0 0 0 0 0 0\n",
      " 0 0 0 0 0 0 0 0 0 0 0 0 0 0 0 0 0 0 0 0 0 0 0 0 0 0 0 0 0 0 0 0 0 0 0 0 0\n",
      " 0 0 0 0 0 0]\n",
      "Error on Training Data: 0.34039087947882735\n",
      "Error on Test Data: 0.37012987012987014\n"
     ]
    },
    {
     "data": {
      "image/png": "[encoded data removed]",
      "text/plain": [
       "<Figure size 432x288 with 1 Axes>"
      ]
     },
     "metadata": {
      "needs_background": "light"
     },
     "output_type": "display_data"
    }
   ],
   "source": [
    "# Initialize weights and Likelihood values\n",
    "w = np.random.random(norm_train_X.shape[1])\n",
    "likelihood = np.array([])\n",
    "ind = np.array([])\n",
    "\n",
    "# Stochastic Gradient Descent\n",
    "threshold = 1e-4\n",
    "nsteps = norm_train_t.shape[0]\n",
    "alpha = 1e-4\n",
    "epochs = 0\n",
    "l_old = -np.inf\n",
    "l_new = -np.random.random(1)\n",
    "start = time.time()\n",
    "# for e in range(200):\n",
    "while (abs(l_old - l_new) > threshold) or (np.isnan(l_old) or np.isnan(l_new)):\n",
    "    for i in range(nsteps):\n",
    "        w = w - alpha * dLdW(w.reshape(-1), norm_train_X[i,:], norm_train_t[i])\n",
    "    epochs += 1\n",
    "    ind = np.append(ind,epochs)\n",
    "    l_old = l_new\n",
    "    l_new = loglikelihood(w.reshape(-1),norm_train_X,norm_train_t)/nsteps\n",
    "    likelihood = np.append(likelihood,l_new)\n",
    "end = time.time()\n",
    "print(l_old, l_new)\n",
    "print('Runtime:', end-start)\n",
    "pred_train_t = (sig(w.reshape(-1),norm_train_X) > 0.5).astype(int)\n",
    "pred_test_t = (sig(w.reshape(-1),norm_test_X) > 0.5).astype(int)\n",
    "plt.plot(ind,likelihood,'-')\n",
    "print('Epochs:', epochs)\n",
    "print('Log Likelihood of Training Data:', loglikelihood(w.reshape(-1), norm_train_X, norm_train_t)/nsteps)\n",
    "print('Log Likelihood of Test Set:', loglikelihood(w.reshape(-1), norm_test_X, norm_test_t)/nsteps)\n",
    "print('Predicted Training Labels:', pred_train_t)\n",
    "print('Predicted Test Labels:', pred_test_t)\n",
    "print('Error on Training Data:', mean_squared_error(norm_train_t, pred_train_t))\n",
    "print('Error on Test Data:', mean_squared_error(norm_test_t, pred_test_t))\n",
    "w = pd.DataFrame(w.reshape(1,-1),columns = column_names)\n",
    "\n",
    "\n",
    "del likelihood, ind, threshold, nsteps, alpha, epochs, l_old, l_new, i, pred_train_t, pred_test_t"
   ]
  },
  {
   "cell_type": "code",
   "execution_count": 209,
   "metadata": {},
   "outputs": [
    {
     "data": {
      "text/html": [
       "<div>\n",
       "<style scoped>\n",
       "    .dataframe tbody tr th:only-of-type {\n",
       "        vertical-align: middle;\n",
       "    }\n",
       "\n",
       "    .dataframe tbody tr th {\n",
       "        vertical-align: top;\n",
       "    }\n",
       "\n",
       "    .dataframe thead th {\n",
       "        text-align: right;\n",
       "    }\n",
       "</style>\n",
       "<table border=\"1\" class=\"dataframe\">\n",
       "  <thead>\n",
       "    <tr style=\"text-align: right;\">\n",
       "      <th></th>\n",
       "      <th>Bias</th>\n",
       "      <th>Pregnancies</th>\n",
       "      <th>Glucose</th>\n",
       "      <th>BloodPressure</th>\n",
       "      <th>SkinThickness</th>\n",
       "      <th>Insulin</th>\n",
       "      <th>BMI</th>\n",
       "      <th>DiabetesPedigreeFunction</th>\n",
       "      <th>Age</th>\n",
       "    </tr>\n",
       "  </thead>\n",
       "  <tbody>\n",
       "    <tr>\n",
       "      <th>0</th>\n",
       "      <td>0.243043</td>\n",
       "      <td>0.030812</td>\n",
       "      <td>-0.496254</td>\n",
       "      <td>-0.595068</td>\n",
       "      <td>0.460866</td>\n",
       "      <td>0.50018</td>\n",
       "      <td>-0.017277</td>\n",
       "      <td>0.282937</td>\n",
       "      <td>0.550184</td>\n",
       "    </tr>\n",
       "  </tbody>\n",
       "</table>\n",
       "</div>"
      ],
      "text/plain": [
       "       Bias  Pregnancies   Glucose  BloodPressure  SkinThickness  Insulin  \\\n",
       "0  0.243043     0.030812 -0.496254      -0.595068       0.460866  0.50018   \n",
       "\n",
       "        BMI  DiabetesPedigreeFunction       Age  \n",
       "0 -0.017277                  0.282937  0.550184  "
      ]
     },
     "execution_count": 209,
     "metadata": {},
     "output_type": "execute_result"
    }
   ],
   "source": [
    "w.head()"
   ]
  },
  {
   "cell_type": "markdown",
   "metadata": {},
   "source": [
    "# Problem 3\n",
    "First apply a decision tress classifier (we recommend the one with scikit learn) on the training set. Experiment with different maximum depths, and report their error rates on the training and test data. Also report the training times required. Should the training or test set accuracies be the same on the unnormalized data as the normalized data? Why or why not? Next, apply a random forrest learner  to the training data. Try a few different numbers of trees (perhaps 5, 20, and 100). Report the training and test accuracies of your forests."
   ]
  },
  {
   "cell_type": "code",
   "execution_count": 210,
   "metadata": {},
   "outputs": [],
   "source": [
    "# Read datasets and make normalized version\n",
    "dataset = pd.read_csv('diabetes.csv')\n",
    "\n",
    "# Split Unnormalized Data\n",
    "X = dataset.drop('Outcome', axis=1)\n",
    "t = dataset['Outcome']\n",
    "train_X, test_X, train_t, test_t = train_test_split(X, t, test_size=0.2, stratify=t)\n",
    "del dataset, X, t\n",
    "column_names = ['Pregnancies', 'Glucose', 'BloodPressure', 'SkinThickness', 'Insulin', 'BMI', 'DiabetesPedigreeFunction', 'Age']\n",
    "train_X = pd.DataFrame(train_X.values,columns = column_names)\n",
    "train_t = pd.DataFrame(train_t.values,columns = ['Outcome'])\n",
    "test_X = pd.DataFrame(test_X.values,columns = column_names)\n",
    "test_t = pd.DataFrame(test_t.values,columns = ['Outcome'])\n",
    "\n",
    "train_X = train_X.values\n",
    "train_t = train_t.values\n",
    "test_X = test_X.values\n",
    "test_t = test_t.values\n",
    "\n",
    "l = train_X.shape[0]\n",
    "X = np.concatenate((train_X,test_X), axis=0)\n",
    "scaler.fit(X)\n",
    "scaler.data_max_\n",
    "X = scaler.transform(X)\n",
    "norm_train_X = X[0:l,:]\n",
    "norm_test_X = X[l:,:]\n",
    "norm_train_t = train_t\n",
    "norm_test_t = test_t\n",
    "\n",
    "# # Split Normalized Data\n",
    "# X = normalized_dataset.drop('Outcome', axis=1)\n",
    "# t = normalized_dataset['Outcome']\n",
    "# norm_train_X, norm_test_X, norm_train_t, norm_test_t = train_test_split(X, t, test_size=0.2, stratify=t)\n",
    "# del normalized_dataset, X, t\n",
    "# norm_train_X = pd.DataFrame(norm_train_X.values,columns = column_names)\n",
    "# norm_train_t = pd.DataFrame(norm_train_t.values,columns = ['Outcome'])\n",
    "# norm_test_X = pd.DataFrame(norm_test_X.values,columns = column_names)\n",
    "# norm_test_t = pd.DataFrame(norm_test_t.values,columns = ['Outcome'])"
   ]
  },
  {
   "cell_type": "code",
   "execution_count": 255,
   "metadata": {},
   "outputs": [
    {
     "name": "stdout",
     "output_type": "stream",
     "text": [
      "Max Depth: 5\n",
      "Training Time: 0.00821828842163086\n",
      "Training Error: 0.1482084690553746\n",
      "Test Error: 0.2532467532467532\n",
      "Max Depth: 10\n",
      "Training Time: 0.010079383850097656\n",
      "Training Error: 0.014657980456026058\n",
      "Test Error: 0.3051948051948052\n",
      "Max Depth: 15\n",
      "Training Time: 0.008715391159057617\n",
      "Training Error: 0.0\n",
      "Test Error: 0.3051948051948052\n",
      "Max Depth: 20\n",
      "Training Time: 0.009923934936523438\n",
      "Training Error: 0.0\n",
      "Test Error: 0.2792207792207792\n"
     ]
    }
   ],
   "source": [
    "# Unnormalized Data Sets\n",
    "for i in range(4,20,5):\n",
    "    start = time.time()\n",
    "    tree = DecisionTreeClassifier(max_depth=i+1)\n",
    "    tree.fit(train_X, train_t)\n",
    "    end = time.time()\n",
    "    pred_train_t = tree.predict(train_X)\n",
    "    pred_test_t = tree.predict(test_X)\n",
    "    print(\"Max Depth:\", i+1)\n",
    "    print(\"Training Time:\", end-start)\n",
    "    print(\"Training Error:\", mean_squared_error(train_t, pred_train_t))\n",
    "    print(\"Test Error:\", mean_squared_error(test_t, pred_test_t))"
   ]
  },
  {
   "cell_type": "code",
   "execution_count": 256,
   "metadata": {
    "scrolled": true
   },
   "outputs": [
    {
     "name": "stdout",
     "output_type": "stream",
     "text": [
      "Max Depth: 5\n",
      "Training Time: 0.008011341094970703\n",
      "Training Error: 0.1482084690553746\n",
      "Test Error: 0.24025974025974026\n",
      "Max Depth: 10\n",
      "Training Time: 0.010040044784545898\n",
      "Training Error: 0.014657980456026058\n",
      "Test Error: 0.2792207792207792\n",
      "Max Depth: 15\n",
      "Training Time: 0.009317874908447266\n",
      "Training Error: 0.0\n",
      "Test Error: 0.3051948051948052\n",
      "Max Depth: 20\n",
      "Training Time: 0.009448528289794922\n",
      "Training Error: 0.0\n",
      "Test Error: 0.2857142857142857\n"
     ]
    }
   ],
   "source": [
    "# Normalized Data Sets\n",
    "for i in range(4,20,5):\n",
    "    start = time.time()\n",
    "    tree = DecisionTreeClassifier(max_depth=i+1)\n",
    "    tree.fit(norm_train_X, norm_train_t)\n",
    "    end = time.time()\n",
    "    pred_train_t = tree.predict(norm_train_X)\n",
    "    pred_test_t = tree.predict(norm_test_X)\n",
    "    print(\"Max Depth:\", i+1)\n",
    "    print(\"Training Time:\", end-start)\n",
    "    print(\"Training Error:\", mean_squared_error(norm_train_t, pred_train_t))\n",
    "    print(\"Test Error:\", mean_squared_error(norm_test_t, pred_test_t))"
   ]
  },
  {
   "cell_type": "code",
   "execution_count": 271,
   "metadata": {},
   "outputs": [
    {
     "name": "stdout",
     "output_type": "stream",
     "text": [
      "Number of Trees: 5\n",
      "Training Time: 0.037393808364868164\n",
      "Training Error: 0.03745928338762215\n",
      "Test Error: 0.2922077922077922\n",
      "Number of Trees: 20\n",
      "Training Time: 0.09646320343017578\n",
      "Training Error: 0.009771986970684038\n",
      "Test Error: 0.23376623376623376\n",
      "Number of Trees: 100\n",
      "Training Time: 0.2305753231048584\n",
      "Training Error: 0.0\n",
      "Test Error: 0.22077922077922077\n"
     ]
    }
   ],
   "source": [
    "ntrees = [5, 20, 100]\n",
    "\n",
    "for n in ntrees:\n",
    "    start = time.time()\n",
    "    forest = RandomForestClassifier(n_estimators=n)\n",
    "    forest.fit(train_X, train_t.reshape(-1))\n",
    "    end = time.time()\n",
    "    pred_train_t = forest.predict(train_X)\n",
    "    pred_test_t = forest.predict(test_X)\n",
    "    print(\"Number of Trees:\", n)\n",
    "    print(\"Training Time:\", end-start)\n",
    "    print(\"Training Error:\", mean_squared_error(train_t, pred_train_t))\n",
    "    print(\"Test Error:\", mean_squared_error(test_t, pred_test_t))"
   ]
  },
  {
   "cell_type": "code",
   "execution_count": 272,
   "metadata": {},
   "outputs": [
    {
     "name": "stdout",
     "output_type": "stream",
     "text": [
      "Number of Trees: 5\n",
      "Training Time: 0.014598369598388672\n",
      "Training Error: 0.03257328990228013\n",
      "Test Error: 0.2662337662337662\n",
      "Number of Trees: 20\n",
      "Training Time: 0.012556076049804688\n",
      "Training Error: 0.03257328990228013\n",
      "Test Error: 0.2987012987012987\n",
      "Number of Trees: 100\n",
      "Training Time: 0.011200189590454102\n",
      "Training Error: 0.03257328990228013\n",
      "Test Error: 0.22077922077922077\n"
     ]
    }
   ],
   "source": [
    "for n in ntrees:\n",
    "    start = time.time()\n",
    "    forest = RandomForestClassifier(n_estimators=5)\n",
    "    forest.fit(norm_train_X, norm_train_t.reshape(-1))\n",
    "    end = time.time()\n",
    "    pred_train_t = forest.predict(norm_train_X)\n",
    "    pred_test_t = forest.predict(norm_test_X)\n",
    "    print(\"Number of Trees:\", n)\n",
    "    print(\"Training Time:\", end-start)\n",
    "    print(\"Training Error:\", mean_squared_error(norm_train_t, pred_train_t))\n",
    "    print(\"Test Error:\", mean_squared_error(norm_test_t, pred_test_t))"
   ]
  },
  {
   "cell_type": "markdown",
   "metadata": {},
   "source": [
    "# Problem 4\n",
    "Scikit learn has a neural_network.MLPClassifier module, use that or something similar to train up a neural network on your normalized training set. Experiment a bit with the number of layers (say 1-4) and number of nodes on each layer (say 10 to 100). Report the training time and accuracies on the training set and test set. Neural network packages tend to have many tunable parameters. Explore the effects for them on the running time and goodness of the produced hypothesis. Some of the more interesting candidates for exploration might be momentum, solver, and alpha (the L2 penalty parameter)."
   ]
  },
  {
   "cell_type": "code",
   "execution_count": 372,
   "metadata": {},
   "outputs": [
    {
     "name": "stdout",
     "output_type": "stream",
     "text": [
      "Average Training Time: 2.4983204555511476\n",
      "Average Training Accuracy: 0.7212540716612369\n",
      "Average Test Accuracy: 0.7068831168831174\n"
     ]
    }
   ],
   "source": [
    "avg_runtime = np.array([])\n",
    "avg_train_accuracy = np.array([])\n",
    "avg_test_accuracy = np.array([])\n",
    "for i in range(100):\n",
    "    start = time.time()\n",
    "    nn = MLPClassifier(hidden_layer_sizes=(100,4), max_iter=2000)\n",
    "    nn.fit(norm_train_X, norm_train_t.reshape(-1))\n",
    "    end = time.time()\n",
    "    avg_runtime = np.append(avg_runtime, end-start)\n",
    "    pred_train_t = nn.predict(norm_train_X)\n",
    "    pred_test_t = nn.predict(norm_test_X)\n",
    "    avg_train_accuracy = np.append(avg_train_accuracy, 1-mean_squared_error(norm_train_t, pred_train_t))\n",
    "    avg_test_accuracy = np.append(avg_test_accuracy, 1-mean_squared_error(norm_test_t, pred_test_t))\n",
    "\n",
    "print(\"Average Training Time:\", sum(avg_runtime)/100)\n",
    "print(\"Average Training Accuracy:\", sum(avg_train_accuracy)/100)\n",
    "print(\"Average Test Accuracy:\", sum(avg_test_accuracy)/100)"
   ]
  },
  {
   "cell_type": "code",
   "execution_count": null,
   "metadata": {},
   "outputs": [],
   "source": [
    "start = time.time()\n",
    "nn = MLPClassifier(hidden_layer_sizes=(100,4), max_iter=2000)\n",
    "nn.fit(norm_train_X, norm_train_t.reshape(-1))\n",
    "end = time.time()\n",
    "avg_runtime = np.append(avg_runtime, end-start)\n",
    "pred_train_t = nn.predict(norm_train_X)\n",
    "pred_test_t = nn.predict(norm_test_X)\n",
    "avg_train_accuracy = np.append(avg_train_accuracy, 1-mean_squared_error(norm_train_t, pred_train_t))\n",
    "avg_test_accuracy = np.append(avg_test_accuracy, 1-mean_squared_error(norm_test_t, pred_test_t))\n"
   ]
  },
  {
   "cell_type": "code",
   "execution_count": null,
   "metadata": {},
   "outputs": [],
   "source": []
  }
 ],
 "metadata": {
  "kernelspec": {
   "display_name": "Python 3",
   "language": "python",
   "name": "python3"
  },
  "language_info": {
   "codemirror_mode": {
    "name": "ipython",
    "version": 3
   },
   "file_extension": ".py",
   "mimetype": "text/x-python",
   "name": "python",
   "nbconvert_exporter": "python",
   "pygments_lexer": "ipython3",
   "version": "3.7.3"
  }
 },
 "nbformat": 4,
 "nbformat_minor": 2
}
